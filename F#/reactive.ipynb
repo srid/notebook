{
  "cells": [
    {
      "cell_type": "markdown",
      "metadata": {},
      "source": [
        "# Reactive programming in F#\n",
        "\n",
        "Haskell has Reflex. What does F# have?\n",
        "\n",
        "Let's explore this: http://fsprojects.github.io/FSharp.Control.Reactive/tutorial.html"
      ]
    },
    {
      "cell_type": "code",
      "execution_count": 1,
      "metadata": {
        "dotnet_interactive": {
          "language": "fsharp"
        }
      },
      "source": [
        "#r \"nuget: FSharp.Control.Reactive\"\n",
        "\n",
        "open FSharp.Control.Reactive\n",
        "\n",
        "let obs1 = Observable.single 1\n",
        "let obs2 = Observable.single 42\n",
        "\n",
        "Observable.merge obs1 obs2\n",
        "|> Observable.subscribe (printf \"%A\")\n",
        "|> ignore"
      ],
      "outputs": [
        {
          "output_type": "execute_result",
          "data": {
            "text/plain": "Installed package FSharp.Control.Reactive version 5.0.2"
          },
          "execution_count": 1,
          "metadata": {}
        },
        {
          "output_type": "execute_result",
          "data": {
            "text/plain": "42"
          },
          "execution_count": 1,
          "metadata": {}
        },
        {
          "output_type": "execute_result",
          "data": {
            "text/plain": "1"
          },
          "execution_count": 1,
          "metadata": {}
        }
      ]
    }
  ],
  "metadata": {
    "kernelspec": {
      "display_name": ".NET (C#)",
      "language": "C#",
      "name": ".net-csharp"
    },
    "language_info": {
      "file_extension": ".cs",
      "mimetype": "text/x-csharp",
      "name": "C#",
      "pygments_lexer": "csharp",
      "version": "8.0"
    }
  },
  "nbformat": 4,
  "nbformat_minor": 4
}