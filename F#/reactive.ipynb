{
  "cells": [
    {
      "cell_type": "markdown",
      "metadata": {},
      "source": [
        "# Reactive programming in F#\n",
        "\n",
        "Haskell has Reflex. What does F# have?\n",
        "\n",
        "Let's explore this: http://fsprojects.github.io/FSharp.Control.Reactive/tutorial.html\n",
        "\n",
        "Documentation is sparse, but the tests have some clues to usage: https://github.com/fsprojects/FSharp.Control.Reactive/blob/master/tests/ObservableSpecs.fs"
      ]
    },
    {
      "cell_type": "code",
      "execution_count": 1,
      "metadata": {
        "dotnet_interactive": {
          "language": "fsharp"
        }
      },
      "source": [
        "#r \"nuget: FSharp.Control.Reactive\"\n",
        "\n",
        "// A simple use case\n",
        "\n",
        "open FSharp.Control.Reactive\n",
        "\n",
        "let obs1 = Observable.single \"Hello\"\n",
        "let obs2 = Observable.single 42\n",
        "\n",
        "Observable.zip obs1 obs2\n",
        "|> Observable.subscribe (printf \"%A\")\n",
        "|> ignore\n",
        "\n",
        ""
      ],
      "outputs": [
        {
          "output_type": "execute_result",
          "data": {
            "text/plain": "(\"Hello\", 42)"
          },
          "execution_count": 1,
          "metadata": {}
        }
      ]
    },
    {
      "cell_type": "code",
      "execution_count": 1,
      "metadata": {
        "dotnet_interactive": {
          "language": "fsharp"
        }
      },
      "source": [
        "// Let's do more\n",
        "\n",
        "let obs1 = [1..5] |> Observable.toObservable\n",
        "let obs2 = Observable.aggregate (+) obs3  // Like `fold` in Haskell\n",
        "\n",
        "// `merge` is equivalent to `leftmost` in reflex\n",
        "Observable.merge obs1 obs2\n",
        "|> Observable.subscribe (printf \"%A\")\n",
        "|> ignore"
      ],
      "outputs": [
        {
          "output_type": "execute_result",
          "data": {
            "text/plain": "1"
          },
          "execution_count": 1,
          "metadata": {}
        },
        {
          "output_type": "execute_result",
          "data": {
            "text/plain": "2"
          },
          "execution_count": 1,
          "metadata": {}
        },
        {
          "output_type": "execute_result",
          "data": {
            "text/plain": "3"
          },
          "execution_count": 1,
          "metadata": {}
        },
        {
          "output_type": "execute_result",
          "data": {
            "text/plain": "4"
          },
          "execution_count": 1,
          "metadata": {}
        },
        {
          "output_type": "execute_result",
          "data": {
            "text/plain": "5"
          },
          "execution_count": 1,
          "metadata": {}
        },
        {
          "output_type": "execute_result",
          "data": {
            "text/plain": "15"
          },
          "execution_count": 1,
          "metadata": {}
        }
      ]
    },
    {
      "cell_type": "code",
      "execution_count": 1,
      "metadata": {
        "dotnet_interactive": {
          "language": "fsharp"
        }
      },
      "source": [
        "// Observable is a monad and applicative\n",
        "\n",
        "let obs1 = [1..5] |> Observable.toObservable\n",
        "let obs2 = Observable.aggregate (+) obs3  // Like `fold` in Haskell\n",
        "\n",
        "let dbl (x: int) : string list =\n",
        "    [$\"Double {x} follows,\"; (x*2).ToString();]\n",
        "\n",
        "// Monadic bind\n",
        "obs1 |> Observable.bind (dbl >> Observable.toObservable)\n",
        "|> Observable.subscribe (printf \"%A\")\n",
        "|> ignore\n",
        "\n",
        "// pure\n",
        "Observable.single 42 |> Observable.subscribe (printf \"%A\") |> ignore\n",
        "\n",
        "// Applicative's apply\n",
        "// Observable.apply"
      ],
      "outputs": [
        {
          "output_type": "execute_result",
          "data": {
            "text/plain": "\"Double 1 follows,\""
          },
          "execution_count": 1,
          "metadata": {}
        },
        {
          "output_type": "execute_result",
          "data": {
            "text/plain": "\"2\""
          },
          "execution_count": 1,
          "metadata": {}
        },
        {
          "output_type": "execute_result",
          "data": {
            "text/plain": "\"Double 2 follows,\""
          },
          "execution_count": 1,
          "metadata": {}
        },
        {
          "output_type": "execute_result",
          "data": {
            "text/plain": "\"4\""
          },
          "execution_count": 1,
          "metadata": {}
        },
        {
          "output_type": "execute_result",
          "data": {
            "text/plain": "\"Double 3 follows,\""
          },
          "execution_count": 1,
          "metadata": {}
        },
        {
          "output_type": "execute_result",
          "data": {
            "text/plain": "\"6\""
          },
          "execution_count": 1,
          "metadata": {}
        },
        {
          "output_type": "execute_result",
          "data": {
            "text/plain": "\"Double 4 follows,\""
          },
          "execution_count": 1,
          "metadata": {}
        },
        {
          "output_type": "execute_result",
          "data": {
            "text/plain": "\"8\""
          },
          "execution_count": 1,
          "metadata": {}
        },
        {
          "output_type": "execute_result",
          "data": {
            "text/plain": "\"Double 5 follows,\""
          },
          "execution_count": 1,
          "metadata": {}
        },
        {
          "output_type": "execute_result",
          "data": {
            "text/plain": "\"10\""
          },
          "execution_count": 1,
          "metadata": {}
        },
        {
          "output_type": "execute_result",
          "data": {
            "text/plain": "42"
          },
          "execution_count": 1,
          "metadata": {}
        }
      ]
    },
    {
      "cell_type": "code",
      "execution_count": 1,
      "metadata": {
        "dotnet_interactive": {
          "language": "fsharp"
        }
      },
      "source": [
        "// WIP\n",
        "\n",
        "open FSharp.Control.Reactive.Builders\n",
        "\n",
        "let inp = observe { yield 1; yield 2; yield 3 }\n",
        "let ano = Observable.range 0 10\n",
        "\n",
        "rxquery {\n",
        "    for x in ano do \n",
        "        groupBy (x % 2) into grp\n",
        "        yield grp.Key\n",
        "} |> Observable.subscribe (printfn \"%A\") |> ignore\n",
        "\n",
        "Observable.replay"
      ],
      "outputs": [
        {
          "output_type": "execute_result",
          "data": {
            "text/plain": "0"
          },
          "execution_count": 1,
          "metadata": {}
        },
        {
          "output_type": "execute_result",
          "data": {
            "text/plain": "\r\n"
          },
          "execution_count": 1,
          "metadata": {}
        },
        {
          "output_type": "execute_result",
          "data": {
            "text/plain": "1"
          },
          "execution_count": 1,
          "metadata": {}
        },
        {
          "output_type": "execute_result",
          "data": {
            "text/plain": "\r\n"
          },
          "execution_count": 1,
          "metadata": {}
        }
      ]
    }
  ],
  "metadata": {
    "kernelspec": {
      "display_name": ".NET (C#)",
      "language": "C#",
      "name": ".net-csharp"
    },
    "language_info": {
      "file_extension": ".cs",
      "mimetype": "text/x-csharp",
      "name": "C#",
      "pygments_lexer": "csharp",
      "version": "8.0"
    }
  },
  "nbformat": 4,
  "nbformat_minor": 4
}