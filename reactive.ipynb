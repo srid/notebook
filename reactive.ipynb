{
  "cells": [
    {
      "cell_type": "code",
      "execution_count": 1,
      "metadata": {
        "dotnet_interactive": {
          "language": "fsharp"
        }
      },
      "outputs": [
        {
          "data": {
            "application/x.notebook.error-traceback": {
              "ename": "Error",
              "evalue": "input.fsx (3,1)-(3,132) interactive error Could not resolve assembly 'Microsoft.DotNet.Interactive.FSharp' required by 'C:/Users/srid/.nuget/packages/microsoft.dotnet-interactive/1.0.216102/tools/net5.0/any/Microsoft.DotNet.Interactive.FSharp.dll'",
              "traceback": []
            }
          },
          "output_type": "unknown"
        }
      ],
      "source": [
        "#r \"nuget: Newtonsoft.Json,13.0.1\"\r\n",
        "open Newtonsoft.Json\r\n",
        "\r\n",
        "let o = {| X = 2; Y = \"Hello\" |}\r\n",
        "\r\n",
        "printfn \"%s\" (JsonConvert.SerializeObject o)"
      ]
    },
    {
      "cell_type": "markdown",
      "metadata": {},
      "source": [
        "# Reactive programming in F#\r\n",
        "\r\n",
        "Haskell has Reflex. What does F# have?\r\n",
        "\r\n",
        "Let's explore this: http://fsprojects.github.io/FSharp.Control.Reactive/tutorial.html"
      ]
    },
    {
      "cell_type": "code",
      "execution_count": null,
      "metadata": {
        "dotnet_interactive": {
          "language": "fsharp"
        }
      },
      "outputs": [
        {
          "data": {
            "text/plain": "42"
          },
          "output_type": "unknown"
        },
        {
          "data": {
            "text/plain": "1"
          },
          "output_type": "unknown"
        }
      ],
      "source": [
        "#r \"nuget: FSharp.Control.Reactive\"\r\n",
        "\r\n",
        "open FSharp.Control.Reactive\r\n",
        "\r\n",
        "let obs1 = Observable.single 1\r\n",
        "let obs2 = Observable.single 42\r\n",
        "\r\n",
        "\r\n",
        "Observable.merge obs1 obs2\r\n",
        "|> Observable.subscribe (printf \"%A\")\r\n",
        "|> ignore"
      ]
    }
  ],
  "metadata": {
    "kernelspec": {
      "display_name": ".NET (C#)",
      "language": "C#",
      "name": ".net-csharp"
    },
    "language_info": {
      "file_extension": ".cs",
      "mimetype": "text/x-csharp",
      "name": "csharp",
      "pygments_lexer": "csharp",
      "version": "8.0"
    }
  },
  "nbformat": 4,
  "nbformat_minor": 4
}